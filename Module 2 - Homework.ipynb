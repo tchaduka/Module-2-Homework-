{
 "cells": [
  {
   "cell_type": "markdown",
   "id": "c209b646",
   "metadata": {},
   "source": [
    "### Homework #2"
   ]
  },
  {
   "cell_type": "markdown",
   "id": "869ebfd6",
   "metadata": {},
   "source": [
    "1. Round 4.5667 to the nearest hundreth (2 decimals) using a build-in function, round()."
   ]
  },
  {
   "cell_type": "code",
   "execution_count": 1,
   "id": "123658aa",
   "metadata": {},
   "outputs": [
    {
     "data": {
      "text/plain": [
       "4.57"
      ]
     },
     "execution_count": 1,
     "metadata": {},
     "output_type": "execute_result"
    }
   ],
   "source": [
    "#rounding a number to the nearest hundreth 2 decimal points\n",
    "\n",
    "round(4.5667, 2)"
   ]
  },
  {
   "cell_type": "markdown",
   "id": "9d3f352c",
   "metadata": {},
   "source": [
    "2. Convert \"657\" to an integer data type"
   ]
  },
  {
   "cell_type": "code",
   "execution_count": 4,
   "id": "d5a67683",
   "metadata": {},
   "outputs": [
    {
     "name": "stdout",
     "output_type": "stream",
     "text": [
      "657\n"
     ]
    }
   ],
   "source": [
    "# Converting a number into an integer\n",
    "\n",
    "convert = int(\"657\")\n",
    "print(convert)"
   ]
  },
  {
   "cell_type": "markdown",
   "id": "a36f06d4",
   "metadata": {},
   "source": [
    "3. Write a program to get two numbers from a user. Then, create a 6-digit code that is a series of randomly generated numbers between the two numbers given by the user. Print the 6-digit code so all digits are separated by a dash. "
   ]
  },
  {
   "cell_type": "code",
   "execution_count": 2,
   "id": "021c92d4",
   "metadata": {},
   "outputs": [
    {
     "name": "stdout",
     "output_type": "stream",
     "text": [
      "Enter a number: 10\n",
      "Enter a number: 20\n",
      "The secret code is:14-17-16-12-15-15\n"
     ]
    }
   ],
   "source": [
    "# a program that lets a user enter two numbers\n",
    "\n",
    "n1 = int(input(\"Enter a number: \"))\n",
    "n2 = int(input(\"Enter a number: \"))\n",
    "\n",
    "import random as rand\n",
    "\n",
    "d1 = rand.randint (n1, n2)\n",
    "d2 = rand.randint (n1, n2)\n",
    "d3 = rand.randint (n1, n2)\n",
    "d4 = rand.randint (n1, n2)\n",
    "d5 = rand.randint (n1, n2)\n",
    "d6 = rand.randint (n1, n2)\n",
    "print(f\"The secret code is:{d1}-{d2}-{d3}-{d4}-{d5}-{d6}\")"
   ]
  },
  {
   "cell_type": "markdown",
   "id": "ee1441a1",
   "metadata": {},
   "source": [
    "4. Write a program to remove ALL the white spaces from the following text:\n",
    "\n",
    "        Hickory, dickory, dock,     \n",
    "        The mouse ran up the clock.   \n",
    "        The clock struck one,   \n",
    "        The mouse ran down,                      \n",
    "        Hickory, dickory, dock                  "
   ]
  },
  {
   "cell_type": "code",
   "execution_count": 7,
   "id": "8bf680f1",
   "metadata": {},
   "outputs": [],
   "source": [
    "# creating strings with spaces in them \n",
    "\n",
    "line1 = \"          Hickory,  dickory, dock,     \"\n",
    "line2 = \"The  mouse ran       up the  clock.\"\n",
    "line3 = \"The        clock  struck one,  \"\n",
    "line4 = \"    The  mouse  ran    down,\"\n",
    "line5 = \" Hickory, dickory,         dock    \""
   ]
  },
  {
   "cell_type": "code",
   "execution_count": 8,
   "id": "59d9c718",
   "metadata": {},
   "outputs": [],
   "source": [
    "# strip surrounding white spaces\n",
    "\n",
    "line1 = line1.strip()\n",
    "line2 = line2.strip()\n",
    "line3 = line3.strip()\n",
    "line4 = line4.strip()\n",
    "line5 = line5.strip()\n",
    "\n",
    "## replace remaining white spaces with no spaces\n",
    "\n",
    "line1 = line1.replace(\" \", \"\")\n",
    "line2 = line2.replace(\" \", \"\")\n",
    "line3 = line3.replace(\" \", \"\")\n",
    "line4 = line4.replace(\" \", \"\")\n",
    "line5 = line5.replace(\" \", \"\")"
   ]
  },
  {
   "cell_type": "code",
   "execution_count": 9,
   "id": "11c24618",
   "metadata": {},
   "outputs": [
    {
     "name": "stdout",
     "output_type": "stream",
     "text": [
      "Hickory,dickory,dock,\n",
      "Themouseranuptheclock.\n",
      "Theclockstruckone,\n",
      "Themouserandown,\n",
      "Hickory,dickory,dock\n"
     ]
    }
   ],
   "source": [
    "print(line1)\n",
    "print(line2)\n",
    "print(line3)\n",
    "print(line4)\n",
    "print(line5)"
   ]
  },
  {
   "cell_type": "markdown",
   "id": "72d87b5b",
   "metadata": {},
   "source": [
    "5. Write a function to calculate the miles per gallon. Get a miles driven and gallons used from a user and call your function to calculate the miles per gallon."
   ]
  },
  {
   "cell_type": "code",
   "execution_count": 10,
   "id": "27be7372",
   "metadata": {},
   "outputs": [
    {
     "name": "stdout",
     "output_type": "stream",
     "text": [
      "Please enter the number of miles driven:\t180\n",
      "Please enter the number of gallons used:\t165.0\n",
      "\n",
      "Miles Driven per Gallon\n",
      "\n",
      "180.0 miles / 165.0 gallons = 1.09 miles per gallon\n"
     ]
    }
   ],
   "source": [
    "# function that calculates miles per gallon\n",
    "\n",
    "def mpg():\n",
    "    miles = float(input(\"Please enter the number of miles driven:\\t\"))\n",
    "    gal = float(input(\"Please enter the number of gallons used:\\t\"))\n",
    "    mpg = miles/gal\n",
    "    print(\"\\nMiles Driven per Gallon\\n\")\n",
    "    print(f\"{miles} miles / {gal} gallons = {mpg:.2f} miles per gallon\")\n",
    "    \n",
    "## call the mpg() function \n",
    "\n",
    "mpg()"
   ]
  },
  {
   "cell_type": "markdown",
   "id": "1f3942b8",
   "metadata": {},
   "source": [
    "6. Enhance the <b>compute()</b> function created during Module 2. Enhance the function to compute a circle's area and circumference where:\n",
    "\n",
    " - circle's area = 3.14 X (radius X radius)   \n",
    " - circle's circumference = 3.14 X diameter"
   ]
  },
  {
   "cell_type": "code",
   "execution_count": 11,
   "id": "df43daca",
   "metadata": {},
   "outputs": [
    {
     "name": "stdout",
     "output_type": "stream",
     "text": [
      "Please enter length 10\n",
      "Please enter width 5\n",
      "Area is 50\n",
      "Perimeter is 30\n"
     ]
    }
   ],
   "source": [
    "# original compute() function\n",
    "\n",
    "def compute():\n",
    "    l = int(input(\"Please enter length \"))\n",
    "    w = int(input(\"Please enter width \"))\n",
    "    A = l * w\n",
    "    P = 2 * (l + w)\n",
    "    print(f\"Area is {A}\")\n",
    "    print(f\"Perimeter is {P}\")\n",
    "    \n",
    "compute()"
   ]
  },
  {
   "cell_type": "code",
   "execution_count": 12,
   "id": "fa8de89a",
   "metadata": {
    "scrolled": true
   },
   "outputs": [
    {
     "name": "stdout",
     "output_type": "stream",
     "text": [
      "Please enter the circle radius: 3.1\n",
      "\n",
      "Circle Information\n",
      "The radius is: 3.1 and the diameter is: 6.2\n",
      "Area is 30.175\n",
      "Circumference is 19.468\n"
     ]
    }
   ],
   "source": [
    "# circle compute() function\n",
    "\n",
    "# pi = 3.14\n",
    "# r = radius\n",
    "# diameter = 2 * radius\n",
    "\n",
    "\n",
    "def compute():\n",
    "    r = float(input(\"Please enter the circle radius: \"))\n",
    "    pi = 3.14\n",
    "    A = pi * (r * r)\n",
    "    C = pi * (2 * r)\n",
    "    print (f\"\\nCircle Information\")\n",
    "    print (f\"The radius is: {r} and the diameter is: {2 * r}\")\n",
    "    print(f\"Area is {A:.3f}\")\n",
    "    print(f\"Circumference is {C:.3f}\")\n",
    "    \n",
    "compute()"
   ]
  },
  {
   "cell_type": "markdown",
   "id": "4c5d83bb",
   "metadata": {},
   "source": [
    "7. Write a function called multiply_two() that accepts two parameters. The function should print a message like '15 * 2 = 30'.  Randomly generate two numbers between 1 and 100, then call the function with the two random numbers."
   ]
  },
  {
   "cell_type": "code",
   "execution_count": 14,
   "id": "fe5ca2dc",
   "metadata": {},
   "outputs": [],
   "source": [
    "# create a function that accepts two parameters and print a message with showing the two numbers multiplied and result\n",
    "def multiply_two(x, y):\n",
    "    print(f\"{x} * {y} = {x * y}\")"
   ]
  },
  {
   "cell_type": "code",
   "execution_count": 15,
   "id": "9f83774c",
   "metadata": {},
   "outputs": [
    {
     "name": "stdout",
     "output_type": "stream",
     "text": [
      "72 * 56 = 4032\n"
     ]
    }
   ],
   "source": [
    "# calls a function with two random numbers\n",
    "num1 = rand.randint(1, 100)\n",
    "num2 = rand.randint(1, 100)\n",
    "\n",
    "multiply_two(num1, num2)"
   ]
  },
  {
   "cell_type": "markdown",
   "id": "36865477",
   "metadata": {},
   "source": [
    "8. Create a function for a multiplication table.  Get a number from a user and then call you function which produces a multiplication table for that number.\n",
    "The output should look something like this:\n",
    "\n",
    "        Enter a number: 3\n",
    "        3 X 1 = 3\n",
    "        3 X 2 = 6\n",
    "        3 X 3 = 9\n",
    "        3 X 4 = 12\n",
    "        3 X 5 = 15\n",
    "        3 X 6 = 18\n",
    "        3 X 7 = 21\n",
    "        3 X 8 = 24\n",
    "        3 X 9 = 27"
   ]
  },
  {
   "cell_type": "code",
   "execution_count": 16,
   "id": "b023e863",
   "metadata": {},
   "outputs": [],
   "source": [
    "# Creating a Function for Multiplication Table\n",
    "\n",
    "def mult_table(x):\n",
    "    print(f\"\\nMultiplication Table for {x}\\n\")\n",
    "    print(f\"{x} X 1 = {x * 1}\")\n",
    "    print(f\"{x} X 2 = {x * 2}\")\n",
    "    print(f\"{x} X 3 = {x * 3}\")\n",
    "    print(f\"{x} X 4 = {x * 4}\")\n",
    "    print(f\"{x} X 5 = {x * 5}\")\n",
    "    print(f\"{x} X 6 = {x * 6}\")\n",
    "    print(f\"{x} X 7 = {x * 7}\")\n",
    "    print(f\"{x} X 8 = {x * 8}\")\n",
    "    print(f\"{x} X 9 = {x * 9}\")\n",
    "    print(f\"{x} X 10 = {x * 10}\")"
   ]
  },
  {
   "cell_type": "code",
   "execution_count": 18,
   "id": "563c8445",
   "metadata": {},
   "outputs": [
    {
     "name": "stdout",
     "output_type": "stream",
     "text": [
      "Enter a number: 20\n",
      "\n",
      "Multiplication Table for 20\n",
      "\n",
      "20 X 1 = 20\n",
      "20 X 2 = 40\n",
      "20 X 3 = 60\n",
      "20 X 4 = 80\n",
      "20 X 5 = 100\n",
      "20 X 6 = 120\n",
      "20 X 7 = 140\n",
      "20 X 8 = 160\n",
      "20 X 9 = 180\n",
      "20 X 10 = 200\n"
     ]
    }
   ],
   "source": [
    "# User enters a number and then produce a multipicaition table for taht number comes up \n",
    "\n",
    "num = int(input(\"Enter a number: \"))\n",
    "\n",
    "mult_table(num)"
   ]
  },
  {
   "cell_type": "code",
   "execution_count": null,
   "id": "02b8a471",
   "metadata": {},
   "outputs": [],
   "source": []
  }
 ],
 "metadata": {
  "kernelspec": {
   "display_name": "Python 3 (ipykernel)",
   "language": "python",
   "name": "python3"
  },
  "language_info": {
   "codemirror_mode": {
    "name": "ipython",
    "version": 3
   },
   "file_extension": ".py",
   "mimetype": "text/x-python",
   "name": "python",
   "nbconvert_exporter": "python",
   "pygments_lexer": "ipython3",
   "version": "3.9.13"
  }
 },
 "nbformat": 4,
 "nbformat_minor": 5
}
